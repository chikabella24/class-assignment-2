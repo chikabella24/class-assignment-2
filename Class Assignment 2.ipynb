{
 "cells": [
  {
   "cell_type": "markdown",
   "metadata": {},
   "source": [
    "# Class Assignment"
   ]
  },
  {
   "cell_type": "code",
   "execution_count": 1,
   "metadata": {},
   "outputs": [
    {
     "name": "stdout",
     "output_type": "stream",
     "text": [
      "Welcome to Kadatemy\n",
      " Please tell us your full name\n",
      "Isabella Obi\n",
      "Thank youIsabella Obi.Now proceed to the next stage.\n",
      " Kindly insert your emailaddress \n",
      "isa_2000@yahoo.com\n",
      "One more thing -we need to know your age.please input it below\n",
      "20\n",
      "We got that.Thank you!\n"
     ]
    }
   ],
   "source": [
    "## solution\n",
    "print(\"Welcome to Kadatemy\\n Please tell us your full name\")\n",
    "# using input with a specific data type\n",
    "fullname = str(input())\n",
    "print(f\"Thank you{fullname}.Now proceed to the next stage.\\n Kindly insert your emailaddress \")\n",
    "\n",
    "email = str(input())\n",
    "print(\"One more thing -we need to know your age.please input it below\")\n",
    "age = int(input())\n",
    "print(\"We got that.Thank you!\")"
   ]
  },
  {
   "cell_type": "markdown",
   "metadata": {},
   "source": [
    "# Create a user profile for TITIAN APP\n"
   ]
  },
  {
   "cell_type": "code",
   "execution_count": 1,
   "metadata": {},
   "outputs": [
    {
     "name": "stdout",
     "output_type": "stream",
     "text": [
      "Welcome to TITIAN\n",
      "This is TITIAN APP\n",
      "Please fill your user profile details that includes your frist_name and last_name\n",
      "Isabella\n",
      "Obi\n",
      "Thank you Isabella Obi.\n",
      "Proceed to the next step\n",
      "Kindly insert your email address and password \n",
      "isa_2000@yaho.com\n",
      "xxybt2000\n",
      "Thanks for taking your time to fill your user profile\n"
     ]
    }
   ],
   "source": [
    "# Create a user profile for TITIAN APP\n",
    "print(\"Welcome to TITIAN\")\n",
    "print(\"This is TITIAN APP\\nPlease fill your user profile details that includes your frist_name and last_name\")\n",
    "first_name = str(input())\n",
    "last_name = str(input())\n",
    "print(f\"Thank you {first_name} {last_name}.\\nProceed to the next step\\nKindly insert your email address and password \")\n",
    "email = str(input())\n",
    "password = str(input())\n",
    "print(\"Thanks for taking your time to fill your user profile\")"
   ]
  },
  {
   "cell_type": "code",
   "execution_count": null,
   "metadata": {},
   "outputs": [],
   "source": []
  },
  {
   "cell_type": "code",
   "execution_count": null,
   "metadata": {},
   "outputs": [],
   "source": []
  }
 ],
 "metadata": {
  "kernelspec": {
   "display_name": "Python 3",
   "language": "python",
   "name": "python3"
  },
  "language_info": {
   "codemirror_mode": {
    "name": "ipython",
    "version": 3
   },
   "file_extension": ".py",
   "mimetype": "text/x-python",
   "name": "python",
   "nbconvert_exporter": "python",
   "pygments_lexer": "ipython3",
   "version": "3.8.5"
  }
 },
 "nbformat": 4,
 "nbformat_minor": 4
}
